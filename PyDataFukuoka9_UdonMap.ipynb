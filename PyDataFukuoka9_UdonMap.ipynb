{
 "cells": [
  {
   "cell_type": "markdown",
   "metadata": {},
   "source": [
    "# PyDataFukuoka#9\n",
    "うどんMAPをスクレイピングしてGooglePlacesAPIでレビュー取得してダッシュボーディング"
   ]
  },
  {
   "cell_type": "code",
   "execution_count": 1,
   "metadata": {},
   "outputs": [],
   "source": [
    "import requests\n",
    "from bs4 import BeautifulSoup\n",
    "import io\n",
    "from tqdm import tqdm\n",
    "\n",
    "import re\n",
    "\n",
    "import pandas as pd\n",
    "import numpy as np\n",
    "\n",
    "import plotly.express as px\n",
    "import pickle\n",
    "\n",
    "import googlemaps"
   ]
  },
  {
   "cell_type": "markdown",
   "metadata": {},
   "source": [
    "## スクレイピング"
   ]
  },
  {
   "cell_type": "code",
   "execution_count": null,
   "metadata": {},
   "outputs": [],
   "source": [
    "scrp_res = []\n",
    "\n",
    "for n in tqdm(range(1,86)):\n",
    "    response = requests.get('https://www.tnc.co.jp/store/shop/archives/category/udonmap/page:{}'.format(n))\n",
    "    soup = BeautifulSoup(response.text,'lxml')\n",
    "    for i in range(1,11):\n",
    "        try :\n",
    "            haha = soup.select('#contents_bg > section > ul > li:nth-child({}) > div.txt'.format(i))        \n",
    "            t = haha[0].get_text(strip=False)\n",
    "            lis_shopinfo = [x for x in re.sub('[\\n\\t]', '\\t', t.split('\\r')[0]).split('\\t') if len(x)>0]\n",
    "            scrp_res.append([n, i, lis_shopinfo])\n",
    "        except :\n",
    "            print(n, i)"
   ]
  },
  {
   "cell_type": "code",
   "execution_count": null,
   "metadata": {},
   "outputs": [],
   "source": [
    "df_scrp_res = pd.DataFrame(scrp_res)\n",
    "df_scrp_res.columns = ['pageNo', \"NoInPage\", \"scrp_info_list\"]"
   ]
  },
  {
   "cell_type": "code",
   "execution_count": null,
   "metadata": {},
   "outputs": [],
   "source": [
    "df_scrp_res['shopName'] = df_scrp_res['scrp_info_list'].map(lambda x: x[0])\n",
    "df_scrp_res['adress'] = df_scrp_res['scrp_info_list'].map(lambda x: [e for e in x if \"【住所】\" in  e]).map(lambda x: x[0] if len(x)>0 else x)\n",
    "df_scrp_res['tel'] = df_scrp_res['scrp_info_list'].map(lambda x: [e for e in x if \"【電話】\" in  e]).map(lambda x: x[0] if len(x)>0 else x)\n",
    "df_scrp_res['biz_hour'] = df_scrp_res['scrp_info_list'].map(lambda x: [e for e in x if \"【営業時間】\" in  e]).map(lambda x: x[0] if len(x)>0 else x)\n",
    "df_scrp_res['reg_holiday'] = df_scrp_res['scrp_info_list'].map(lambda x: [e for e in x if \"【定休日】\" in  e]).map(lambda x: x[0] if len(x)>0 else x)\n",
    "df_scrp_res['Akira_ordere'] = df_scrp_res['scrp_info_list'].map(lambda x: x[-1])"
   ]
  },
  {
   "cell_type": "code",
   "execution_count": null,
   "metadata": {},
   "outputs": [],
   "source": [
    "df_scrp_res['srchwd'] = df_scrp_res['shopName'] + df_scrp_res['adress'].map(lambda x: re.sub('【住所】', ' ', x))"
   ]
  },
  {
   "cell_type": "markdown",
   "metadata": {},
   "source": [
    "## Places APIの使用"
   ]
  },
  {
   "cell_type": "code",
   "execution_count": null,
   "metadata": {},
   "outputs": [],
   "source": [
    "key = open(\".placesapikey\").read()"
   ]
  },
  {
   "cell_type": "code",
   "execution_count": null,
   "metadata": {},
   "outputs": [],
   "source": [
    "def serchRating(word:str)->dict:\n",
    "    try:\n",
    "        client = googlemaps.Client(key) \n",
    "        geocode_result = client.geocode(word)\n",
    "        detail = client.place(geocode_result[0]['place_id'], language=\"Japanese\",  fields=['name', 'rating', 'user_ratings_total', 'geometry'])\n",
    "        res = detail['result']\n",
    "    except:\n",
    "        res=np.nan\n",
    "    return res"
   ]
  },
  {
   "cell_type": "code",
   "execution_count": null,
   "metadata": {},
   "outputs": [],
   "source": [
    "%%time\n",
    "df_scrp_res['takendata'] = df_scrp_res['srchwd'].map(serchRating)"
   ]
  },
  {
   "cell_type": "markdown",
   "metadata": {},
   "source": [
    "### 取得したデータの加工"
   ]
  },
  {
   "cell_type": "code",
   "execution_count": null,
   "metadata": {},
   "outputs": [],
   "source": [
    "df_scrp_res.loc[~df_scrp_res['takendata'].isnull(), 'takendata_geometry_lat'] = (\n",
    "    df_scrp_res.loc[~df_scrp_res['takendata'].isnull(), 'takendata'].map(lambda x:x['geometry']['location']['lat'])\n",
    ")\n",
    "\n",
    "df_scrp_res.loc[~df_scrp_res['takendata'].isnull(), 'takendata_geometry_lng'] = (\n",
    "    df_scrp_res.loc[~df_scrp_res['takendata'].isnull(), 'takendata'].map(lambda x:x['geometry']['location']['lng'])\n",
    ")\n",
    "\n",
    "df_scrp_res.loc[~df_scrp_res['takendata'].isnull(), 'takendata_name'] = (\n",
    "    df_scrp_res.loc[~df_scrp_res['takendata'].isnull(), 'takendata'].map(lambda x:x['name'])\n",
    ")\n",
    "\n",
    "df_scrp_res.loc[~df_scrp_res['takendata'].isnull(), 'takendata_rating'] = (\n",
    "    df_scrp_res.loc[~df_scrp_res['takendata'].isnull(), 'takendata'].map(lambda x: x['rating'] if len(x)>=3 else None)\n",
    ")\n",
    "\n",
    "df_scrp_res.loc[~df_scrp_res['takendata'].isnull(), 'takendata_user_ratings_total'] = (\n",
    "    df_scrp_res.loc[~df_scrp_res['takendata'].isnull(), 'takendata'].map(lambda x:x['user_ratings_total'] if len(x)>=3 else None)\n",
    ")"
   ]
  },
  {
   "cell_type": "code",
   "execution_count": null,
   "metadata": {},
   "outputs": [],
   "source": [
    "df_preped = df_scrp_res.loc[~df_scrp_res['takendata_rating'].isnull()]"
   ]
  },
  {
   "cell_type": "code",
   "execution_count": null,
   "metadata": {},
   "outputs": [],
   "source": [
    "df_preped_drp_dup = df_preped.drop_duplicates(['shopName', 'takendata_name'])"
   ]
  },
  {
   "cell_type": "code",
   "execution_count": null,
   "metadata": {
    "scrolled": false
   },
   "outputs": [],
   "source": [
    "\n",
    "df4disp = (\n",
    "    df_preped_drp_dup[\n",
    "        ['shopName', 'adress', 'tel', 'biz_hour', 'reg_holiday', 'Akira_ordere', 'takendata_rating', 'takendata_user_ratings_total']\n",
    "    ].copy()\n",
    ")\n",
    "df4disp['adress'] = df4disp['adress'].map(lambda x: re.sub('【住所】', '', x) if len(x)>0 else None)\n",
    "df4disp['tel'] = df4disp['tel'].map(lambda x: re.sub('【電話】', '', x) if len(x)>0 else None)\n",
    "df4disp['biz_hour'] = df4disp['biz_hour'].map(lambda x: re.sub('【営業時間】', '', x) if len(x)>0 else None)\n",
    "df4disp['reg_holiday'] = df4disp['reg_holiday'].map(lambda x: re.sub('【定休日】', '', x) if len(x)>0 else None)\n",
    "df4disp['Akira_ordere'] = df4disp['Akira_ordere'].map(lambda x: re.sub('詳しくはこちら', '', x) if len(x)>0 else None)\n",
    "df4disp"
   ]
  },
  {
   "cell_type": "code",
   "execution_count": null,
   "metadata": {},
   "outputs": [],
   "source": [
    "df4disp['adress_sp1'] = df4disp['adress'].map(lambda x:re.sub('福岡県', '', x.split('市')[0].split('郡')[0]))\n",
    "# df4disp['adress_sp2'] = df4disp['adress_sp1'].map(lambda x:x.split('郡')[0])\n",
    "# df4disp['adress_sp2']"
   ]
  },
  {
   "cell_type": "code",
   "execution_count": null,
   "metadata": {},
   "outputs": [],
   "source": [
    "df4disp['adress_sp1'].unique()"
   ]
  },
  {
   "cell_type": "code",
   "execution_count": null,
   "metadata": {},
   "outputs": [],
   "source": [
    "df4disp['adress_sp1'] = df4disp['adress'].map(lambda x:re.sub('福岡県', '', ((x.split('市')[0] + '市').split('郡')[0])))\n",
    "df4disp.loc[df4disp['adress_sp1'] == '粕屋',  'adress_sp1'] = '糟屋'\n",
    "df4disp.loc[df4disp['adress_sp1'].map(lambda x:x[-1]!='市'),  'adress_sp1'] = (\n",
    "    df4disp.loc[df4disp['adress_sp1'].map(lambda x:x[-1]!='市'),  'adress_sp1'].map(lambda x:x+'郡')\n",
    ")\n",
    "df4disp.loc[df4disp['adress_sp1'] == '小郡',  'adress_sp1'] = '小郡市'\n",
    "df4disp['adress_sp1'].unique().tolist()"
   ]
  },
  {
   "cell_type": "markdown",
   "metadata": {},
   "source": [
    "## 可視化"
   ]
  },
  {
   "cell_type": "code",
   "execution_count": null,
   "metadata": {},
   "outputs": [],
   "source": [
    "px.set_mapbox_access_token(open(\".mapboxtoken\").read())"
   ]
  },
  {
   "cell_type": "code",
   "execution_count": null,
   "metadata": {
    "scrolled": true
   },
   "outputs": [],
   "source": [
    "import plotly.express as px\n",
    "\n",
    "df = px.data.carshare()\n",
    "fig = px.scatter_mapbox(df_preped_drp_dup\n",
    "                        , lat=\"takendata_geometry_lat\"\n",
    "                        , lon=\"takendata_geometry_lng\"\n",
    "                        , color=\"takendata_rating\"\n",
    "                        , size=\"takendata_user_ratings_total\"\n",
    "                        , hover_name='takendata_name'\n",
    "                        , color_continuous_scale=px.colors.cyclical.IceFire, size_max=20, zoom=8)\n",
    "fig.show()"
   ]
  },
  {
   "cell_type": "code",
   "execution_count": null,
   "metadata": {},
   "outputs": [],
   "source": [
    "px.scatter(data_frame=df_preped_drp_dup\n",
    "           , x='takendata_user_ratings_total'\n",
    "           , y='takendata_rating'\n",
    "           , marginal_x='histogram'\n",
    "          , marginal_y='histogram'\n",
    "          , hover_name='shopName')"
   ]
  },
  {
   "cell_type": "code",
   "execution_count": null,
   "metadata": {},
   "outputs": [],
   "source": [
    "px.histogram(data_frame=df_preped_drp_dup.loc[df_preped_drp_dup['takendata_user_ratings_total']>= 88]\n",
    "             , x='takendata_rating', marginal='box')"
   ]
  },
  {
   "cell_type": "code",
   "execution_count": null,
   "metadata": {},
   "outputs": [],
   "source": [
    "# # streamlit\n",
    "# import streamlit as st\n",
    "\n",
    "# px.set_mapbox_access_token(open(\".mapboxtoken\").read())\n",
    "\n",
    "# df_preped_drp_dup['adress'] = df_preped_drp_dup['adress'].map(lambda x: re.sub('【住所】', '', x) if len(x)>0 else None)\n",
    "# df_preped_drp_dup['tel'] = df_preped_drp_dup['tel'].map(lambda x: re.sub('【電話\n",
    "# 】', '', x) if len(x)>0 else None)\n",
    "# df_preped_drp_dup['biz_hour'] = df_preped_drp_dup['biz_hour'].map(lambda x: re.sub('【営業時間】', '', x) if len(x)>0 else None)\n",
    "# df_preped_drp_dup['reg_holiday'] = df_preped_drp_dup['reg_holiday'].map(lambda x: re.sub('【定休日】', '', x) if len(x)>0 else None)\n",
    "# df_preped_drp_dup['Akira_ordere'] = df_preped_drp_dup['Akira_ordere'].map(lambda x: re.sub('詳しくはこちら', '', x) if len(x)>0 else None)\n",
    "\n",
    "\n",
    "# # サイドバー　スライドバー\n",
    "# n_rating_cutoff = st.sidebar.slider(\n",
    "#     'レビュー数の閾値を選んでください！',\n",
    "#    1.0, df_preped_drp_dup['takendata_user_ratings_total'].max(), (88.0, 1300.0))\n",
    "\n",
    "\n",
    "\n",
    "\n",
    "# # cutoff適用したdf\n",
    "# df_n_r_cut = (\n",
    "#     df_preped_drp_dup.loc[(df_preped_drp_dup['takendata_user_ratings_total']>=n_rating_cutoff[0])&\n",
    "#                                    (df_preped_drp_dup['takendata_user_ratings_total']<=n_rating_cutoff[1]), :]\n",
    "#     .copy()\n",
    "#     .rename(columns={'takendata_user_ratings_total':'n_review', 'takendata_rating':'rating_average'})\n",
    "# )\n",
    "\n",
    "# # map\n",
    "# fig_map = px.scatter_mapbox(df_n_r_cut\n",
    "#                         , lat=\"takendata_geometry_lat\"\n",
    "#                         , lon=\"takendata_geometry_lng\"\n",
    "#                         , color=\"rating_average\"\n",
    "#                         , size=\"n_review\"\n",
    "#                         , hover_name='takendata_name'\n",
    "#                         , color_continuous_scale=px.colors.cyclical.IceFire, size_max=20, zoom=8)\n",
    "\n",
    "# # scatter\n",
    "# fig_scatter = px.scatter(data_frame=df_n_r_cut\n",
    "#                         , x='n_review'\n",
    "#                         , y='rating_average'\n",
    "#                         , marginal_x='rug'\n",
    "#                         , marginal_y='rug'\n",
    "#                         , hover_name='shopName'\n",
    "#                         )\n",
    "\n",
    "# # hist\n",
    "# fig_hist_r = px.histogram(data_frame=df_n_r_cut\n",
    "#              , x='rating_average'\n",
    "#              , marginal='box')\n",
    "\n",
    "\n",
    "# # hist2\n",
    "# fig_hist_nr = px.histogram(data_frame=df_n_r_cut\n",
    "#              , x='n_review'\n",
    "#              , marginal='box')\n",
    "\n",
    "\n",
    "\n",
    "# st.markdown('# PyData.Fukuoka\\#9 \\n ##### うどんMAPっていいコーナーだよね')\n",
    "# st.text('\\n \\n \\n \\n')\n",
    "# left_column, right_column = st.beta_columns(2)\n",
    "# # left1\n",
    "# left_column.text('\\n \\n \\n地図')\n",
    "# left_column.write(fig_map, use_container_width = True)\n",
    "# # left2\n",
    "# left_column.text('ratingの分布')\n",
    "# left_column.write(fig_hist_r)\n",
    "                              \n",
    "# #right1\n",
    "# right_column.text('\\n \\n \\nレビュー数とratingの関係')\n",
    "# right_column.write(fig_scatter)\n",
    "# #right2\n",
    "# right_column.text('レビュー数の分布')\n",
    "# right_column.write(fig_hist_nr)\n",
    "\n",
    "# # 表示 cutoff適用したdf\n",
    "# st.text('うどん店一覧')\n",
    "# disp_col_name = ['shopName', 'rating_average', 'n_review', 'adress', 'tel', 'biz_hour', 'reg_holiday', 'Akira_ordere']\n",
    "\n",
    "\n",
    "# st.dataframe(\n",
    "#     df_n_r_cut[disp_col_name]\n",
    "#     , width=1200, height=400)"
   ]
  }
 ],
 "metadata": {
  "kernelspec": {
   "display_name": "Python 3",
   "language": "python",
   "name": "python3"
  },
  "language_info": {
   "codemirror_mode": {
    "name": "ipython",
    "version": 3
   },
   "file_extension": ".py",
   "mimetype": "text/x-python",
   "name": "python",
   "nbconvert_exporter": "python",
   "pygments_lexer": "ipython3",
   "version": "3.7.5"
  }
 },
 "nbformat": 4,
 "nbformat_minor": 4
}
